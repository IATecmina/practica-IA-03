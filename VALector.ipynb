{
  "nbformat": 4,
  "nbformat_minor": 0,
  "metadata": {
    "colab": {
      "provenance": []
    },
    "kernelspec": {
      "name": "python3",
      "display_name": "Python 3"
    },
    "language_info": {
      "name": "python"
    }
  },
  "cells": [
    {
      "cell_type": "code",
      "execution_count": null,
      "metadata": {
        "id": "bGwImWUuA1Vj",
        "colab": {
          "base_uri": "https://localhost:8080/"
        },
        "outputId": "8733ee9b-10dc-4922-876f-c7f9ae14a6b4"
      },
      "outputs": [
        {
          "output_type": "stream",
          "name": "stdout",
          "text": [
            "Reading package lists... Done\n",
            "Building dependency tree       \n",
            "Reading state information... Done\n",
            "tesseract-ocr is already the newest version (4.00~git2288-10f4998a-2).\n",
            "The following package was automatically installed and is no longer required:\n",
            "  libnvidia-common-460\n",
            "Use 'sudo apt autoremove' to remove it.\n",
            "0 upgraded, 0 newly installed, 0 to remove and 20 not upgraded.\n",
            "Looking in indexes: https://pypi.org/simple, https://us-python.pkg.dev/colab-wheels/public/simple/\n",
            "Requirement already satisfied: pytesseract==0.3.9 in /usr/local/lib/python3.8/dist-packages (0.3.9)\n",
            "Requirement already satisfied: packaging>=21.3 in /usr/local/lib/python3.8/dist-packages (from pytesseract==0.3.9) (21.3)\n",
            "Requirement already satisfied: Pillow>=8.0.0 in /usr/local/lib/python3.8/dist-packages (from pytesseract==0.3.9) (9.3.0)\n",
            "Requirement already satisfied: pyparsing!=3.0.5,>=2.0.2 in /usr/local/lib/python3.8/dist-packages (from packaging>=21.3->pytesseract==0.3.9) (3.0.9)\n"
          ]
        }
      ],
      "source": [
        "# Practica-IA-03    By::AY_SP\n",
        "# primera parte: instalacion de librerias\n",
        "!sudo apt-get install tesseract-ocr\n",
        "!pip install pytesseract==0.3.9"
      ]
    },
    {
      "cell_type": "code",
      "source": [
        "\n",
        "# segunda parte: importar librerias/bibliotecas\n",
        "from pytesseract import *  \n",
        "from google.colab import files\n",
        "import cv2\n",
        "from google.colab.patches import cv2_imshow\n",
        "\n",
        "# Tercera parte: desarrollo de la practica\n",
        "files.upload()\n",
        "imagenSubida = cv2.imread('runBTS.png', cv2.IMREAD_UNCHANGED)\n",
        "extraer = pytesseract.image_to_string(imagenSubida,lang = 'eng')\n",
        "\n",
        "print('\\n')\n",
        "print('TEXTO EXTRAIDO:')\n",
        "print(extraer)\n",
        "print('\\n')\n",
        "print('IMAGEN ORIGINAL')\n",
        "cv2_imshow(imagenSubida)"
      ],
      "metadata": {
        "id": "1Xjs0oK2385z"
      },
      "execution_count": null,
      "outputs": []
    }
  ]
}